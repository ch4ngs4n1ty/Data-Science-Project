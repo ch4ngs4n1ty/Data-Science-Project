{
  "metadata": {
    "kernelspec": {
      "name": "python",
      "display_name": "Python (Pyodide)",
      "language": "python"
    },
    "language_info": {
      "codemirror_mode": {
        "name": "python",
        "version": 3
      },
      "file_extension": ".py",
      "mimetype": "text/x-python",
      "name": "python",
      "nbconvert_exporter": "python",
      "pygments_lexer": "ipython3",
      "version": "3.8"
    }
  },
  "nbformat_minor": 4,
  "nbformat": 4,
  "cells": [
    {
      "cell_type": "markdown",
      "source": "# Project About Data Science Tools",
      "metadata": {}
    },
    {
      "cell_type": "markdown",
      "source": "This notebook will be introducing Data Science Tools. ",
      "metadata": {}
    },
    {
      "cell_type": "markdown",
      "source": "**Popular Data Languages in Data Science:**\n\n- Python\n- R\n- SQL\n- Java\n- C++",
      "metadata": {}
    },
    {
      "cell_type": "markdown",
      "source": "**Data Science Libraries:**\n\n- NumPy\n- ggplot2\n- Pandas\n- SeaBorn\n- matplotlib\n",
      "metadata": {}
    },
    {
      "cell_type": "markdown",
      "source": "**Data Science Tools**\n\n|Tools|\n|-------|\n|Jupyter Notebook|\n|Apache Hadoop|\n|Apache Spark|\n",
      "metadata": {}
    },
    {
      "cell_type": "markdown",
      "source": "**Introducing Arithmetic Examples**",
      "metadata": {}
    },
    {
      "cell_type": "code",
      "source": "#multiply and add numbers\n\ntotal = 6 + 9\nprint(total)",
      "metadata": {
        "trusted": true
      },
      "outputs": [
        {
          "name": "stdout",
          "text": "15\n",
          "output_type": "stream"
        }
      ],
      "execution_count": 11
    },
    {
      "cell_type": "code",
      "source": "#Subtraction\n\ntotal = 9 - 5\nprint(total)",
      "metadata": {
        "trusted": true
      },
      "outputs": [
        {
          "name": "stdout",
          "text": "4\n",
          "output_type": "stream"
        }
      ],
      "execution_count": 4
    },
    {
      "cell_type": "code",
      "source": "#Multiply and Add Numbers\n\ntotal = 5 + (6*2)\nprint(total)",
      "metadata": {
        "trusted": true
      },
      "outputs": [
        {
          "name": "stdout",
          "text": "17\n",
          "output_type": "stream"
        }
      ],
      "execution_count": 7
    },
    {
      "cell_type": "code",
      "source": "#Convert Minutes to Hours\n\nnum_min = 60\nhour = num_min / 60\nprint(\"Total number of hours is: \" + str(hour))",
      "metadata": {
        "trusted": true
      },
      "outputs": [
        {
          "name": "stdout",
          "text": "Total number of hours is: 1.0\n",
          "output_type": "stream"
        }
      ],
      "execution_count": 9
    },
    {
      "cell_type": "markdown",
      "source": "**Objectives**\n\n- Learn how to operate JupyterLite\n- List Popular Data Science Languages\n- List Popular Data Science Tools\n- Be able to know how to use tables and arithmetic expressions",
      "metadata": {}
    },
    {
      "cell_type": "markdown",
      "source": "**Author**\n\nEthan Chang",
      "metadata": {}
    }
  ]
}